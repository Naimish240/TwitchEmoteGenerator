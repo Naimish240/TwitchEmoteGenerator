{
  "nbformat": 4,
  "nbformat_minor": 0,
  "metadata": {
    "colab": {
      "name": "TwitchEmoteGAN.ipynb",
      "provenance": [],
      "collapsed_sections": [],
      "toc_visible": true,
      "authorship_tag": "ABX9TyMqxmcctYoK25sSjjR0HW/S",
      "include_colab_link": true
    },
    "kernelspec": {
      "name": "python3",
      "display_name": "Python 3"
    },
    "language_info": {
      "name": "python"
    }
  },
  "cells": [
    {
      "cell_type": "markdown",
      "metadata": {
        "id": "view-in-github",
        "colab_type": "text"
      },
      "source": [
        "<a href=\"https://colab.research.google.com/github/Naimish240/TwitchEmoteGenerator/blob/main/TwitchEmoteGAN.ipynb\" target=\"_parent\"><img src=\"https://colab.research.google.com/assets/colab-badge.svg\" alt=\"Open In Colab\"/></a>"
      ]
    },
    {
      "cell_type": "markdown",
      "metadata": {
        "id": "SlCwz8HcrGdF"
      },
      "source": [
        "This notebook is used to download the emotes according to their tags, and save them to drive as a gzip folder."
      ]
    },
    {
      "cell_type": "markdown",
      "metadata": {
        "id": "7kF-556-ox82"
      },
      "source": [
        "## Setup"
      ]
    },
    {
      "cell_type": "markdown",
      "metadata": {
        "id": "FieFQXuNM-9s"
      },
      "source": [
        "Import statements"
      ]
    },
    {
      "cell_type": "code",
      "metadata": {
        "id": "8gynXe70MEMQ"
      },
      "source": [
        "import requests\n",
        "from time import time\n",
        "from tqdm import tqdm\n",
        "import pandas as pd\n",
        "import re\n",
        "import os"
      ],
      "execution_count": null,
      "outputs": []
    },
    {
      "cell_type": "markdown",
      "metadata": {
        "id": "wcWr4UAYM1-V"
      },
      "source": [
        "Find Common Substrings with regex"
      ]
    },
    {
      "cell_type": "code",
      "metadata": {
        "colab": {
          "base_uri": "https://localhost:8080/"
        },
        "id": "S0fIWNZcMbRB",
        "outputId": "75ad2381-7101-4880-88e7-225f4de0b6da"
      },
      "source": [
        "count = 25\n",
        "\n",
        "df = pd.read_csv('file1.csv')\n",
        "emotes = df.ename\n",
        "\n",
        "tokens = {}\n",
        "\n",
        "for name in emotes:\n",
        "    foo = [i.lower() for i in re.sub('([A-Z][a-z]+)', r' \\1', re.sub('([A-Z]+)', r' \\1', name)).split()]\n",
        "    for i in foo:\n",
        "        if i not in tokens.keys():\n",
        "            tokens[i] = 1\n",
        "        else:\n",
        "            tokens[i] += 1\n",
        "\n",
        "print(\"Number of Unique tokens: \", len(tokens))\n",
        "\n",
        "token_tuple = [(v, k) for v, k in tokens.items()]\n",
        "token_tuple.sort(key=lambda x: x[1], reverse=True)\n",
        "print(token_tuple[:count])\n",
        "print(f\"Sum of first {count} tokens is : \", sum([k for (v, k) in token_tuple[:count]]))"
      ],
      "execution_count": null,
      "outputs": [
        {
          "output_type": "stream",
          "text": [
            "Number of Unique tokens:  61872\n",
            "[('love', 3436), ('hype', 2685), ('gg', 2091), ('rage', 1964), ('hi', 1722), ('pog', 1571), ('cry', 1244), ('rip', 1165), ('sad', 998), ('lul', 919), ('heart', 912), ('gasm', 748), ('lurk', 723), ('s', 655), ('lol', 639), ('l', 631), ('hey', 619), ('w', 587), ('sip', 568), ('ez', 553), ('wtf', 523), ('happy', 520), ('wow', 507), ('raid', 484), ('f', 476)]\n",
            "Sum of first 25 tokens is :  26940\n"
          ],
          "name": "stdout"
        }
      ]
    },
    {
      "cell_type": "markdown",
      "metadata": {
        "id": "rSWi4ayQM0yN"
      },
      "source": [
        "Function to download images with a given tag"
      ]
    },
    {
      "cell_type": "code",
      "metadata": {
        "id": "MBiWevacMDHA"
      },
      "source": [
        "def downloadEmoteImages(tag):\n",
        "    print(\"Downloading tag \", tag)\n",
        "    df = pd.read_csv('file1.csv')\n",
        "    data = tuple(zip(df.ename,df.image_url))\n",
        "    os.mkdir(f\"image/{tag}\")\n",
        "\n",
        "    to_download = []\n",
        "\n",
        "    for name, url in data:\n",
        "      foo = [i.lower() for i in re.sub('([A-Z][a-z]+)', r' \\1', re.sub('([A-Z]+)', r' \\1', name)).split()]\n",
        "      if tag in foo:\n",
        "        to_download.append((name, url))\n",
        "\n",
        "    with tqdm(total=len(to_download)) as pbar:\n",
        "        for name, url in to_download:\n",
        "            response = requests.get(url)\n",
        "            with open(f'image/{tag}/{name}.png', 'wb') as handle:\n",
        "                handle.write(response.content)\n",
        "            pbar.update(1)"
      ],
      "execution_count": null,
      "outputs": []
    },
    {
      "cell_type": "markdown",
      "metadata": {
        "id": "wi6XH0u7PTEy"
      },
      "source": [
        "Download top 25 tags"
      ]
    },
    {
      "cell_type": "code",
      "metadata": {
        "colab": {
          "base_uri": "https://localhost:8080/"
        },
        "id": "N6OTpJEDPRyu",
        "outputId": "3a9c1df1-d006-4400-b1e3-c6f1c836032a"
      },
      "source": [
        "os.mkdir('image')\n",
        "\n",
        "for tag, _ in token_tuple[:count]:\n",
        "  downloadEmoteImages(tag)"
      ],
      "execution_count": null,
      "outputs": [
        {
          "output_type": "stream",
          "text": [
            "Downloading tag  love\n"
          ],
          "name": "stdout"
        },
        {
          "output_type": "stream",
          "text": [
            "100%|██████████| 3436/3436 [12:10<00:00,  4.71it/s]\n"
          ],
          "name": "stderr"
        },
        {
          "output_type": "stream",
          "text": [
            "Downloading tag  hype\n"
          ],
          "name": "stdout"
        },
        {
          "output_type": "stream",
          "text": [
            "100%|██████████| 2685/2685 [10:15<00:00,  4.36it/s]\n"
          ],
          "name": "stderr"
        },
        {
          "output_type": "stream",
          "text": [
            "Downloading tag  gg\n"
          ],
          "name": "stdout"
        },
        {
          "output_type": "stream",
          "text": [
            "100%|██████████| 2091/2091 [08:05<00:00,  4.30it/s]\n"
          ],
          "name": "stderr"
        },
        {
          "output_type": "stream",
          "text": [
            "Downloading tag  rage\n"
          ],
          "name": "stdout"
        },
        {
          "output_type": "stream",
          "text": [
            "100%|██████████| 1964/1964 [07:32<00:00,  4.34it/s]\n"
          ],
          "name": "stderr"
        },
        {
          "output_type": "stream",
          "text": [
            "Downloading tag  hi\n"
          ],
          "name": "stdout"
        },
        {
          "output_type": "stream",
          "text": [
            "100%|██████████| 1718/1718 [06:29<00:00,  4.42it/s]\n"
          ],
          "name": "stderr"
        },
        {
          "output_type": "stream",
          "text": [
            "Downloading tag  pog\n"
          ],
          "name": "stdout"
        },
        {
          "output_type": "stream",
          "text": [
            "100%|██████████| 1570/1570 [05:52<00:00,  4.45it/s]\n"
          ],
          "name": "stderr"
        },
        {
          "output_type": "stream",
          "text": [
            "Downloading tag  cry\n"
          ],
          "name": "stdout"
        },
        {
          "output_type": "stream",
          "text": [
            "100%|██████████| 1244/1244 [04:42<00:00,  4.40it/s]\n"
          ],
          "name": "stderr"
        },
        {
          "output_type": "stream",
          "text": [
            "Downloading tag  rip\n"
          ],
          "name": "stdout"
        },
        {
          "output_type": "stream",
          "text": [
            "100%|██████████| 1165/1165 [04:24<00:00,  4.40it/s]\n"
          ],
          "name": "stderr"
        },
        {
          "output_type": "stream",
          "text": [
            "Downloading tag  sad\n"
          ],
          "name": "stdout"
        },
        {
          "output_type": "stream",
          "text": [
            "100%|██████████| 998/998 [03:50<00:00,  4.33it/s]\n"
          ],
          "name": "stderr"
        },
        {
          "output_type": "stream",
          "text": [
            "Downloading tag  lul\n"
          ],
          "name": "stdout"
        },
        {
          "output_type": "stream",
          "text": [
            "100%|██████████| 919/919 [03:26<00:00,  4.45it/s]\n"
          ],
          "name": "stderr"
        },
        {
          "output_type": "stream",
          "text": [
            "Downloading tag  heart\n"
          ],
          "name": "stdout"
        },
        {
          "output_type": "stream",
          "text": [
            "100%|██████████| 912/912 [03:29<00:00,  4.36it/s]\n"
          ],
          "name": "stderr"
        },
        {
          "output_type": "stream",
          "text": [
            "Downloading tag  gasm\n"
          ],
          "name": "stdout"
        },
        {
          "output_type": "stream",
          "text": [
            "100%|██████████| 748/748 [02:48<00:00,  4.43it/s]\n"
          ],
          "name": "stderr"
        },
        {
          "output_type": "stream",
          "text": [
            "Downloading tag  lurk\n"
          ],
          "name": "stdout"
        },
        {
          "output_type": "stream",
          "text": [
            "100%|██████████| 722/722 [02:42<00:00,  4.43it/s]\n"
          ],
          "name": "stderr"
        },
        {
          "output_type": "stream",
          "text": [
            "Downloading tag  s\n"
          ],
          "name": "stdout"
        },
        {
          "output_type": "stream",
          "text": [
            "100%|██████████| 655/655 [02:22<00:00,  4.59it/s]\n"
          ],
          "name": "stderr"
        },
        {
          "output_type": "stream",
          "text": [
            "Downloading tag  lol\n"
          ],
          "name": "stdout"
        },
        {
          "output_type": "stream",
          "text": [
            "100%|██████████| 639/639 [02:25<00:00,  4.39it/s]\n"
          ],
          "name": "stderr"
        },
        {
          "output_type": "stream",
          "text": [
            "Downloading tag  l\n"
          ],
          "name": "stdout"
        },
        {
          "output_type": "stream",
          "text": [
            "100%|██████████| 631/631 [02:18<00:00,  4.54it/s]\n"
          ],
          "name": "stderr"
        },
        {
          "output_type": "stream",
          "text": [
            "Downloading tag  hey\n"
          ],
          "name": "stdout"
        },
        {
          "output_type": "stream",
          "text": [
            "100%|██████████| 617/617 [02:18<00:00,  4.46it/s]\n"
          ],
          "name": "stderr"
        },
        {
          "output_type": "stream",
          "text": [
            "Downloading tag  w\n"
          ],
          "name": "stdout"
        },
        {
          "output_type": "stream",
          "text": [
            "100%|██████████| 587/587 [02:09<00:00,  4.52it/s]\n"
          ],
          "name": "stderr"
        },
        {
          "output_type": "stream",
          "text": [
            "Downloading tag  sip\n"
          ],
          "name": "stdout"
        },
        {
          "output_type": "stream",
          "text": [
            "100%|██████████| 568/568 [02:05<00:00,  4.54it/s]\n"
          ],
          "name": "stderr"
        },
        {
          "output_type": "stream",
          "text": [
            "Downloading tag  ez\n"
          ],
          "name": "stdout"
        },
        {
          "output_type": "stream",
          "text": [
            "100%|██████████| 553/553 [02:03<00:00,  4.50it/s]\n"
          ],
          "name": "stderr"
        },
        {
          "output_type": "stream",
          "text": [
            "Downloading tag  wtf\n"
          ],
          "name": "stdout"
        },
        {
          "output_type": "stream",
          "text": [
            "100%|██████████| 523/523 [01:57<00:00,  4.45it/s]\n"
          ],
          "name": "stderr"
        },
        {
          "output_type": "stream",
          "text": [
            "Downloading tag  happy\n"
          ],
          "name": "stdout"
        },
        {
          "output_type": "stream",
          "text": [
            "100%|██████████| 519/519 [01:57<00:00,  4.43it/s]\n"
          ],
          "name": "stderr"
        },
        {
          "output_type": "stream",
          "text": [
            "Downloading tag  wow\n"
          ],
          "name": "stdout"
        },
        {
          "output_type": "stream",
          "text": [
            "100%|██████████| 507/507 [01:54<00:00,  4.41it/s]\n"
          ],
          "name": "stderr"
        },
        {
          "output_type": "stream",
          "text": [
            "Downloading tag  raid\n"
          ],
          "name": "stdout"
        },
        {
          "output_type": "stream",
          "text": [
            "100%|██████████| 484/484 [01:51<00:00,  4.34it/s]\n"
          ],
          "name": "stderr"
        },
        {
          "output_type": "stream",
          "text": [
            "Downloading tag  f\n"
          ],
          "name": "stdout"
        },
        {
          "output_type": "stream",
          "text": [
            "100%|██████████| 476/476 [01:48<00:00,  4.40it/s]\n"
          ],
          "name": "stderr"
        }
      ]
    },
    {
      "cell_type": "markdown",
      "metadata": {
        "id": "X-y-1puuomzT"
      },
      "source": [
        "Compress images for download"
      ]
    },
    {
      "cell_type": "code",
      "metadata": {
        "id": "CV2JGHjxYOuP"
      },
      "source": [
        "!tar -zcvf dataset.tar.gz image"
      ],
      "execution_count": null,
      "outputs": []
    },
    {
      "cell_type": "code",
      "metadata": {
        "colab": {
          "base_uri": "https://localhost:8080/"
        },
        "id": "T6rlPkt-qIHx",
        "outputId": "f597cec9-ef5c-44ab-9950-8eafa9924a98"
      },
      "source": [
        "from google.colab import drive\n",
        "drive.mount('/content/drive')"
      ],
      "execution_count": null,
      "outputs": [
        {
          "output_type": "stream",
          "text": [
            "Mounted at /content/drive\n"
          ],
          "name": "stdout"
        }
      ]
    },
    {
      "cell_type": "code",
      "metadata": {
        "id": "H9d9TJ0sqho5"
      },
      "source": [
        "!cp /content/dataset.tar.gz /content/drive/MyDrive/TwitchEmotes"
      ],
      "execution_count": null,
      "outputs": []
    }
  ]
}